{
 "cells": [
  {
   "attachments": {},
   "cell_type": "markdown",
   "metadata": {},
   "source": [
    "# Consider Generators Instead of Returning List"
   ]
  },
  {
   "cell_type": "code",
   "execution_count": 1,
   "metadata": {},
   "outputs": [],
   "source": [
    "def index_words(text):\n",
    "    result = []\n",
    "    if text:\n",
    "        result.append(0)\n",
    "    for index, letter in enumerate(text):\n",
    "        if letter == ' ':\n",
    "            result.append(index + 1)\n",
    "    return result"
   ]
  },
  {
   "cell_type": "code",
   "execution_count": 3,
   "metadata": {},
   "outputs": [
    {
     "name": "stdout",
     "output_type": "stream",
     "text": [
      "[0, 5, 11, 15, 21, 27, 31, 35, 43, 51]\n"
     ]
    }
   ],
   "source": [
    "# address = 'Four score and seven years ago...'\n",
    "address = 'Four score and seven years ago our fathers brought forth on this continent a new nation, conceived in liberty, and dedicated to the proposition that all men are created equal.'\n",
    "result = index_words(address)\n",
    "print(result[:10])"
   ]
  },
  {
   "attachments": {},
   "cell_type": "markdown",
   "metadata": {},
   "source": [
    "- Each time a new result is found, I call the append method\n",
    "- The method call’s bulk (result.append) deemphasizes the value being added to the list (index + 1)"
   ]
  },
  {
   "cell_type": "code",
   "execution_count": 4,
   "metadata": {},
   "outputs": [],
   "source": [
    "def index_words_iter(text):\n",
    "    if text:\n",
    "        yield 0\n",
    "    for index, letter in enumerate(text):\n",
    "        if letter == ' ':\n",
    "            yield index + 1"
   ]
  },
  {
   "attachments": {},
   "cell_type": "markdown",
   "metadata": {},
   "source": [
    "- When called, a generator function does not actually run but instead immediately returns an iterator\n",
    "- With each call to the **next** built-in function, the iterator advances the generator to its next yield expression"
   ]
  },
  {
   "cell_type": "code",
   "execution_count": 10,
   "metadata": {},
   "outputs": [
    {
     "name": "stdout",
     "output_type": "stream",
     "text": [
      "[0, 5, 11, 15, 21, 27, 31, 35, 43, 51, 57, 60, 65, 75, 77, 81, 89, 99, 102, 111, 115, 125, 128, 132, 144, 149, 153, 157, 161, 169]\n",
      "[]\n"
     ]
    }
   ],
   "source": [
    "it = index_words_iter(address)\n",
    "print(list(it))\n",
    "print(list(it))"
   ]
  },
  {
   "attachments": {},
   "cell_type": "markdown",
   "metadata": {},
   "source": [
    "You can easily convert the iterator returned by the generator to a list by passing it to the list built-in function if necessary"
   ]
  },
  {
   "cell_type": "code",
   "execution_count": 6,
   "metadata": {},
   "outputs": [
    {
     "name": "stdout",
     "output_type": "stream",
     "text": [
      "[0, 5, 11, 15, 21, 27, 31, 35, 43, 51]\n"
     ]
    }
   ],
   "source": [
    "result = list(index_words_iter(address))\n",
    "print(result[:10])"
   ]
  },
  {
   "cell_type": "code",
   "execution_count": 11,
   "metadata": {},
   "outputs": [
    {
     "name": "stdout",
     "output_type": "stream",
     "text": [
      "[0, 5, 11, 15, 21, 27, 31, 35, 43, 51]\n"
     ]
    }
   ],
   "source": [
    "def index_file(handle):\n",
    "    offset = 0\n",
    "    for line in handle:\n",
    "        if line:\n",
    "            yield offset\n",
    "        for letter in line:\n",
    "            offset += 1\n",
    "            if letter == ' ':\n",
    "                yield offset\n",
    "\n",
    "\n",
    "# Example 7\n",
    "address_lines = \"\"\"Four score and seven years\n",
    "ago our fathers brought forth on this\n",
    "continent a new nation, conceived in liberty,\n",
    "and dedicated to the proposition that all men\n",
    "are created equal.\"\"\"\n",
    "\n",
    "with open('address.txt', 'w') as f:\n",
    "    f.write(address_lines)\n",
    "\n",
    "import itertools\n",
    "with open('address.txt', 'r') as f:\n",
    "    it = index_file(f)\n",
    "    results = itertools.islice(it, 0, 10)\n",
    "    print(list(results))"
   ]
  }
 ],
 "metadata": {
  "kernelspec": {
   "display_name": "venv",
   "language": "python",
   "name": "python3"
  },
  "language_info": {
   "codemirror_mode": {
    "name": "ipython",
    "version": 3
   },
   "file_extension": ".py",
   "mimetype": "text/x-python",
   "name": "python",
   "nbconvert_exporter": "python",
   "pygments_lexer": "ipython3",
   "version": "3.9.0"
  },
  "orig_nbformat": 4,
  "vscode": {
   "interpreter": {
    "hash": "a36e7f22a2ea414ee240053800448b5e53393948aff6a501bd899d95dad39503"
   }
  }
 },
 "nbformat": 4,
 "nbformat_minor": 2
}

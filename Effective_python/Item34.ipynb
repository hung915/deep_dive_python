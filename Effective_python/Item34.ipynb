{
 "cells": [
  {
   "attachments": {},
   "cell_type": "markdown",
   "metadata": {},
   "source": [
    "# Avoid injecting data into generators with send"
   ]
  },
  {
   "cell_type": "code",
   "execution_count": 1,
   "metadata": {},
   "outputs": [
    {
     "name": "stdout",
     "output_type": "stream",
     "text": [
      "Output:   0.0\n",
      "Output:   2.1\n",
      "Output:   3.0\n",
      "Output:   2.1\n",
      "Output:   0.0\n",
      "Output:  -2.1\n",
      "Output:  -3.0\n",
      "Output:  -2.1\n"
     ]
    }
   ],
   "source": [
    "import math\n",
    "\n",
    "def wave(amplitude, steps):\n",
    "    step_size = 2 * math.pi / steps\n",
    "    for step in range(steps):\n",
    "        radians = step * step_size\n",
    "        fraction = math.sin(radians)\n",
    "        output = amplitude * fraction\n",
    "        yield output\n",
    "\n",
    "def transmit(output):\n",
    "    if output is None:\n",
    "        print(f'Output is None')\n",
    "    else:\n",
    "        print(f'Output: {output:>5.1f}')\n",
    "\n",
    "def run(it):\n",
    "    for output in it:\n",
    "        transmit(output)\n",
    "\n",
    "run(wave(3.0, 8))"
   ]
  },
  {
   "cell_type": "code",
   "execution_count": 2,
   "metadata": {},
   "outputs": [
    {
     "name": "stdout",
     "output_type": "stream",
     "text": [
      "output = 1\n",
      "received = None\n"
     ]
    }
   ],
   "source": [
    "def my_generator():\n",
    "    received = yield 1\n",
    "    print(f'received = {received}')\n",
    "\n",
    "it = my_generator()\n",
    "output = next(it)       # Get first generator output\n",
    "print(f'output = {output}')\n",
    "\n",
    "try:\n",
    "    next(it)            # Run generator until it exits\n",
    "except StopIteration:\n",
    "    pass\n",
    "else:\n",
    "    assert False"
   ]
  },
  {
   "attachments": {},
   "cell_type": "markdown",
   "metadata": {},
   "source": [
    "When I call the send method instead of iterating the generator with a for loop or the next built-in function, the supplied parameter becomes the value of the yield expression when the generator is resumed. However, when the generator first starts, a yield expression has not been encountered yet, so the only valid value for calling send initially is None"
   ]
  },
  {
   "cell_type": "code",
   "execution_count": 3,
   "metadata": {},
   "outputs": [
    {
     "name": "stdout",
     "output_type": "stream",
     "text": [
      "output = 1\n",
      "received = hello!\n"
     ]
    }
   ],
   "source": [
    "it = my_generator()\n",
    "output = it.send(None)  # Get first generator output\n",
    "print(f'output = {output}')\n",
    "\n",
    "try:\n",
    "    it.send('hello!')   # Send value into the generator\n",
    "except StopIteration:\n",
    "    pass\n",
    "else:\n",
    "    assert False"
   ]
  },
  {
   "cell_type": "code",
   "execution_count": 4,
   "metadata": {},
   "outputs": [
    {
     "name": "stdout",
     "output_type": "stream",
     "text": [
      "Output is None\n",
      "Output:   0.0\n",
      "Output:   3.5\n",
      "Output:   6.1\n",
      "Output:   2.0\n",
      "Output:   1.7\n",
      "Output:   1.0\n",
      "Output:   0.0\n",
      "Output:  -5.0\n",
      "Output:  -8.7\n",
      "Output: -10.0\n",
      "Output:  -8.7\n",
      "Output:  -5.0\n"
     ]
    }
   ],
   "source": [
    "def wave_modulating(steps):\n",
    "    step_size = 2 * math.pi / steps\n",
    "    amplitude = yield             # Receive initial amplitude\n",
    "    for step in range(steps):\n",
    "        radians = step * step_size\n",
    "        fraction = math.sin(radians)\n",
    "        output = amplitude * fraction\n",
    "        amplitude = yield output  # Receive next amplitude\n",
    "\n",
    "def run_modulating(it):\n",
    "    amplitudes = [\n",
    "        None, 7, 7, 7, 2, 2, 2, 2, 10, 10, 10, 10, 10]\n",
    "    for amplitude in amplitudes:\n",
    "        output = it.send(amplitude)\n",
    "        transmit(output)\n",
    "\n",
    "run_modulating(wave_modulating(12))"
   ]
  },
  {
   "cell_type": "code",
   "execution_count": null,
   "metadata": {},
   "outputs": [],
   "source": []
  }
 ],
 "metadata": {
  "kernelspec": {
   "display_name": "venv",
   "language": "python",
   "name": "python3"
  },
  "language_info": {
   "codemirror_mode": {
    "name": "ipython",
    "version": 3
   },
   "file_extension": ".py",
   "mimetype": "text/x-python",
   "name": "python",
   "nbconvert_exporter": "python",
   "pygments_lexer": "ipython3",
   "version": "3.9.0"
  },
  "orig_nbformat": 4,
  "vscode": {
   "interpreter": {
    "hash": "a36e7f22a2ea414ee240053800448b5e53393948aff6a501bd899d95dad39503"
   }
  }
 },
 "nbformat": 4,
 "nbformat_minor": 2
}

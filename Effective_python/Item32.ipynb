{
 "cells": [
  {
   "attachments": {},
   "cell_type": "markdown",
   "metadata": {},
   "source": [
    "# Consider Generator Expressions for Large List Comprehension"
   ]
  },
  {
   "cell_type": "code",
   "execution_count": 1,
   "metadata": {},
   "outputs": [
    {
     "name": "stdout",
     "output_type": "stream",
     "text": [
      "[86, 36, 73, 5, 96, 32, 72, 26, 72, 15]\n"
     ]
    }
   ],
   "source": [
    "import random\n",
    "\n",
    "with open('my_file.txt', 'w') as f:\n",
    "    for _ in range(10):\n",
    "        f.write('a' * random.randint(0, 100))\n",
    "        f.write('\\n')\n",
    "\n",
    "value = [len(x) for x in open('my_file.txt')]\n",
    "print(value)"
   ]
  },
  {
   "cell_type": "code",
   "execution_count": 2,
   "metadata": {},
   "outputs": [
    {
     "name": "stdout",
     "output_type": "stream",
     "text": [
      "<generator object <genexpr> at 0x000002A5FC9C1900>\n"
     ]
    }
   ],
   "source": [
    "it = (len(x) for x in open('my_file.txt'))\n",
    "print(it)"
   ]
  },
  {
   "cell_type": "code",
   "execution_count": 3,
   "metadata": {},
   "outputs": [
    {
     "name": "stdout",
     "output_type": "stream",
     "text": [
      "86\n",
      "36\n"
     ]
    }
   ],
   "source": [
    "print(next(it))\n",
    "print(next(it))"
   ]
  },
  {
   "cell_type": "code",
   "execution_count": 4,
   "metadata": {},
   "outputs": [],
   "source": [
    "roots = ((x, x**0.5) for x in it)"
   ]
  },
  {
   "cell_type": "code",
   "execution_count": 5,
   "metadata": {},
   "outputs": [
    {
     "name": "stdout",
     "output_type": "stream",
     "text": [
      "(73, 8.54400374531753)\n"
     ]
    }
   ],
   "source": [
    "print(next(roots))"
   ]
  }
 ],
 "metadata": {
  "kernelspec": {
   "display_name": "venv",
   "language": "python",
   "name": "python3"
  },
  "language_info": {
   "codemirror_mode": {
    "name": "ipython",
    "version": 3
   },
   "file_extension": ".py",
   "mimetype": "text/x-python",
   "name": "python",
   "nbconvert_exporter": "python",
   "pygments_lexer": "ipython3",
   "version": "3.9.0"
  },
  "orig_nbformat": 4,
  "vscode": {
   "interpreter": {
    "hash": "a36e7f22a2ea414ee240053800448b5e53393948aff6a501bd899d95dad39503"
   }
  }
 },
 "nbformat": 4,
 "nbformat_minor": 2
}

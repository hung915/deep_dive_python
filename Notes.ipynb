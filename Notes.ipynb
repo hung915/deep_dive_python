{
 "cells": [
  {
   "attachments": {},
   "cell_type": "markdown",
   "metadata": {},
   "source": [
    "## Membership test in set lot faster than list, tuple membership\n"
   ]
  },
  {
   "cell_type": "code",
   "execution_count": 17,
   "metadata": {},
   "outputs": [
    {
     "name": "stdout",
     "output_type": "stream",
     "text": [
      "<class 'list'>: 0.5022902000000613\n",
      "<class 'list'>: 0.5049421999997321\n",
      "<class 'set'>: 0.1777700000002369\n"
     ]
    }
   ],
   "source": [
    "import string\n",
    "\n",
    "char_list = list(string.ascii_letters)\n",
    "char_tuple = list(string.ascii_letters)\n",
    "char_set = set(string.ascii_letters)\n",
    "\n",
    "\n",
    "def timed(reps):\n",
    "    def dec(fn):\n",
    "        def inner(*args, **kwargs):\n",
    "            from time import perf_counter\n",
    "            start = perf_counter()\n",
    "            for _ in range(reps):\n",
    "                fn(*args, **kwargs)\n",
    "            end = perf_counter()\n",
    "            print(str(type(kwargs.get('container'))) + f\": {end - start}\")\n",
    "        return inner\n",
    "    return dec\n",
    "\n",
    "\n",
    "@timed(1_000_000)\n",
    "def membership_test(container):\n",
    "    if 'z' in container:\n",
    "        pass\n",
    "\n",
    "\n",
    "membership_test(container=char_list)\n",
    "membership_test(container=char_tuple)\n",
    "membership_test(container=char_set)\n"
   ]
  },
  {
   "attachments": {},
   "cell_type": "markdown",
   "metadata": {},
   "source": [
    "## Python optimizations interning\n",
    "\n",
    "- integer: [-5, 256]\n",
    "- force intern (sys.intern() method) \\\n",
    "  when should use force intern: \\\n",
    "  dealing with a large number of strings that could have high repetition \\\n",
    "  lots of string comparisons\n"
   ]
  },
  {
   "cell_type": "code",
   "execution_count": 38,
   "metadata": {},
   "outputs": [
    {
     "name": "stdout",
     "output_type": "stream",
     "text": [
      "1930523208080 1930523208080 1930523208080\n",
      "test_equal 2.567297900000085\n",
      "test_equal_interning 0.23600899999928515\n"
     ]
    }
   ],
   "source": [
    "import sys\n",
    "from time import perf_counter\n",
    "\n",
    "a = 256\n",
    "b = 256\n",
    "c = 256\n",
    "print(id(a), id(b), id(c))\n",
    "\n",
    "\n",
    "def test_equal(n):\n",
    "    a = \"a long string that is not interned\" * 200\n",
    "    b = \"a long string that is not interned\" * 200\n",
    "    for _ in range(n):\n",
    "        if a == b:\n",
    "            pass\n",
    "\n",
    "\n",
    "def test_equal_interning(n):\n",
    "    a = sys.intern(\"a long string that is not interned\" * 200)\n",
    "    b = sys.intern(\"a long string that is not interned\" * 200)\n",
    "    for _ in range(n):\n",
    "        if a is b:\n",
    "            pass\n",
    "\n",
    "\n",
    "start = perf_counter()\n",
    "test_equal(10_000_000)\n",
    "end = perf_counter()\n",
    "print(\"test_equal\", end-start)\n",
    "\n",
    "start = perf_counter()\n",
    "test_equal_interning(10_000_000)\n",
    "end = perf_counter()\n",
    "print(\"test_equal_interning\", end-start)\n"
   ]
  },
  {
   "attachments": {},
   "cell_type": "markdown",
   "metadata": {},
   "source": [
    "## Positional and keyword argument\n",
    "\n",
    "- All arguments after the first named (keyword) argument. must be named too\n",
    "- *args exhausts positional argument, you cannot add more positional arguments after *args"
   ]
  },
  {
   "cell_type": "code",
   "execution_count": 41,
   "metadata": {},
   "outputs": [
    {
     "name": "stdout",
     "output_type": "stream",
     "text": [
      "abc\n",
      "1\n"
     ]
    }
   ],
   "source": [
    "def token_required(fn):\n",
    "    def inner(*args, **kwargs):\n",
    "        current_user = 1\n",
    "        return fn(*args, current_user, **kwargs)\n",
    "    return inner\n",
    "\n",
    "@token_required\n",
    "def test(a, current_user):\n",
    "    print(a)\n",
    "    print(current_user)\n",
    "\n",
    "a = 'abc'\n",
    "test(a)"
   ]
  },
  {
   "cell_type": "code",
   "execution_count": null,
   "metadata": {},
   "outputs": [],
   "source": []
  }
 ],
 "metadata": {
  "kernelspec": {
   "display_name": "Python 3",
   "language": "python",
   "name": "python3"
  },
  "language_info": {
   "codemirror_mode": {
    "name": "ipython",
    "version": 3
   },
   "file_extension": ".py",
   "mimetype": "text/x-python",
   "name": "python",
   "nbconvert_exporter": "python",
   "pygments_lexer": "ipython3",
   "version": "3.9.0"
  },
  "orig_nbformat": 4,
  "vscode": {
   "interpreter": {
    "hash": "d67361a3d364688397b33cbfb119b14b00e2785ac8bff6cce333bec5e1984b55"
   }
  }
 },
 "nbformat": 4,
 "nbformat_minor": 2
}

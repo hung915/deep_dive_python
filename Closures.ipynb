{
 "cells": [
  {
   "cell_type": "code",
   "execution_count": 1,
   "metadata": {},
   "outputs": [
    {
     "name": "stdout",
     "output_type": "stream",
     "text": [
      "python rocks!\n"
     ]
    }
   ],
   "source": [
    "def outer():\n",
    "    # closure begin\n",
    "    x = 'python'\n",
    "\n",
    "    def inner():\n",
    "        print(f\"{x} rocks!\")\n",
    "    # end closure\n",
    "    inner()\n",
    "\n",
    "outer()"
   ]
  },
  {
   "attachments": {},
   "cell_type": "markdown",
   "metadata": {},
   "source": [
    "when we return **inner**, we are actually \"returning\" the **closure**"
   ]
  },
  {
   "cell_type": "code",
   "execution_count": null,
   "metadata": {},
   "outputs": [],
   "source": [
    "def outer():\n",
    "    # closure begin\n",
    "    x = 'python'\n",
    "\n",
    "    def inner():\n",
    "        print(f\"{x} rocks!\")\n",
    "    # end closure\n",
    "    return inner\n"
   ]
  },
  {
   "attachments": {},
   "cell_type": "markdown",
   "metadata": {},
   "source": [
    "we can assign the return value to a variable name: **fn = outer()** -> **fn()**\n",
    "\n",
    "When we called fn at that time Python determined the value of x in the extended scope.\n",
    "\n",
    "But notice that **outer** has finished running **before** we call **fn** - it's scope was \"gone\""
   ]
  },
  {
   "attachments": {},
   "cell_type": "markdown",
   "metadata": {},
   "source": [
    "# Python Cells and Multi-Scoped Variables\n",
    "\n",
    "Here the value of x is **shared** between 2 scopes:\n",
    "- outer\n",
    "- closure\n",
    "\n",
    "The label x is in 2 different scopes but always reference the same \"value\"\n",
    "\n",
    "Python does this by creating a **cell** as an intermediary object:\n",
    "\n",
    "outer.x --> cell\n",
    "              |    ---> str ('python')\n",
    "inner.x --> cell\n",
    "\n",
    "both x (in outer and inner) point to the **same** cell"
   ]
  },
  {
   "attachments": {},
   "cell_type": "markdown",
   "metadata": {},
   "source": [
    "# Closures\n",
    "\n",
    "Closures: **a function + extended scope** that contains **free variables**"
   ]
  },
  {
   "cell_type": "code",
   "execution_count": 4,
   "metadata": {},
   "outputs": [
    {
     "name": "stdout",
     "output_type": "stream",
     "text": [
      "('x',)\n",
      "(<cell at 0x000001AE559832B0: str object at 0x000001AE5387BAB0>,)\n"
     ]
    }
   ],
   "source": [
    "def outer():\n",
    "    a = 100\n",
    "    # closure begin\n",
    "    x = 'python'\n",
    "\n",
    "    def inner():\n",
    "        a = 10 # local variable\n",
    "        print(f\"{x} rocks!\")\n",
    "    # end closure\n",
    "    return inner\n",
    "\n",
    "fn = outer()\n",
    "print(fn.__code__.co_freevars) # -> ('x',)\n",
    "print(fn.__closure__)  # -> tuple of cell object (<cell at 0x...: str object at 0x..., )"
   ]
  },
  {
   "cell_type": "code",
   "execution_count": 5,
   "metadata": {},
   "outputs": [
    {
     "name": "stdout",
     "output_type": "stream",
     "text": [
      "0x1ae5387bab0\n",
      "0x1ae5387bab0\n",
      "python rocks!\n"
     ]
    }
   ],
   "source": [
    "def outer():\n",
    "    # closure begin\n",
    "    x = 'python'\n",
    "    print(hex(id(x))) # indirect reference\n",
    "    def inner():\n",
    "        print(hex(id(x)))\n",
    "        print(f\"{x} rocks!\")\n",
    "    # end closure\n",
    "    return inner\n",
    "\n",
    "fn = outer()\n",
    "fn()"
   ]
  },
  {
   "attachments": {},
   "cell_type": "markdown",
   "metadata": {},
   "source": [
    "# Modifying free variables"
   ]
  },
  {
   "cell_type": "code",
   "execution_count": 6,
   "metadata": {},
   "outputs": [
    {
     "data": {
      "text/plain": [
       "2"
      ]
     },
     "execution_count": 6,
     "metadata": {},
     "output_type": "execute_result"
    }
   ],
   "source": [
    "def counter():\n",
    "    count = 0\n",
    "    def inc():\n",
    "        nonlocal count\n",
    "        count += 1\n",
    "        return count\n",
    "    return inc\n",
    "\n",
    "fn = counter()\n",
    "fn() # -> 1 count indirect reference changed from object 0 to object 1\n",
    "fn()"
   ]
  },
  {
   "attachments": {},
   "cell_type": "markdown",
   "metadata": {},
   "source": [
    "# Multiple instances of Closures\n",
    "\n",
    "Every time we run a function, a **new** scope is created\n",
    "\n",
    "If that function generates a closure, a **new** closure is created every time as well"
   ]
  },
  {
   "cell_type": "code",
   "execution_count": 11,
   "metadata": {},
   "outputs": [
    {
     "name": "stdout",
     "output_type": "stream",
     "text": [
      "(<cell at 0x000001AE55983880: int object at 0x000001AE509F6910>,)\n",
      "(<cell at 0x000001AE55983F40: int object at 0x000001AE509F6910>,)\n"
     ]
    }
   ],
   "source": [
    "def counter():\n",
    "    count = 0\n",
    "\n",
    "    def inc():\n",
    "        nonlocal count\n",
    "        count += 1\n",
    "        return count\n",
    "    return inc\n",
    "\n",
    "f1 = counter()\n",
    "f2 = counter()\n",
    "\n",
    "print(f1.__closure__) # f1 and f2 do not have the same extended scope, they are different instances of closure -> the cell are different\n",
    "print(f2.__closure__)"
   ]
  },
  {
   "attachments": {},
   "cell_type": "markdown",
   "metadata": {},
   "source": [
    "# Shared extended scopes"
   ]
  },
  {
   "cell_type": "code",
   "execution_count": 12,
   "metadata": {},
   "outputs": [
    {
     "data": {
      "text/plain": [
       "2"
      ]
     },
     "execution_count": 12,
     "metadata": {},
     "output_type": "execute_result"
    }
   ],
   "source": [
    "def counter():\n",
    "    count = 0\n",
    "\n",
    "    def inc1():\n",
    "        nonlocal count\n",
    "        count += 1\n",
    "        return count\n",
    "\n",
    "    def inc2():\n",
    "        nonlocal count\n",
    "        count += 1\n",
    "        return count\n",
    "\n",
    "    return inc1, inc2\n",
    "\n",
    "f1, f2 = counter()\n",
    "f1() # -> 1\n",
    "f2() # -> 2"
   ]
  },
  {
   "attachments": {},
   "cell_type": "markdown",
   "metadata": {},
   "source": [
    "**count** is a free variable - bound to **count** in the extended scope\n",
    "\n",
    "You may think this shared extended scope is highly unusual... but it's not!"
   ]
  },
  {
   "cell_type": "code",
   "execution_count": 13,
   "metadata": {},
   "outputs": [
    {
     "name": "stdout",
     "output_type": "stream",
     "text": [
      "11\n",
      "12\n",
      "13\n"
     ]
    }
   ],
   "source": [
    "# No shared extended scopes\n",
    "\n",
    "def adder(n):\n",
    "    def inner(x):\n",
    "        return x + n\n",
    "    return inner\n",
    "\n",
    "add_1 = adder(1)\n",
    "add_2 = adder(2)\n",
    "add_3 = adder(3)\n",
    "\n",
    "print(add_1(10))\n",
    "print(add_2(10))\n",
    "print(add_3(10))"
   ]
  },
  {
   "cell_type": "code",
   "execution_count": 16,
   "metadata": {},
   "outputs": [
    {
     "name": "stdout",
     "output_type": "stream",
     "text": [
      "13\n",
      "13\n",
      "13\n",
      "()\n",
      "None\n"
     ]
    }
   ],
   "source": [
    "adders = []\n",
    "for n in range(1, 4):\n",
    "    adders.append(lambda x: x + n)\n",
    "\n",
    "# n is global variable, not free variable\n",
    "# adder is not closure\n",
    "\n",
    "print(adders[0](10))\n",
    "print(adders[1](10))\n",
    "print(adders[2](10))\n",
    "\n",
    "print(adders[0].__code__.co_freevars)\n",
    "print(adders[0].__closure__)"
   ]
  },
  {
   "cell_type": "code",
   "execution_count": 15,
   "metadata": {},
   "outputs": [
    {
     "name": "stdout",
     "output_type": "stream",
     "text": [
      "('n',)\n",
      "('current', 'n')\n",
      "102\n",
      "104\n"
     ]
    }
   ],
   "source": [
    "# Nested Closures\n",
    "\n",
    "def increment(n):\n",
    "    # inner + n is a closure\n",
    "    def inner(start):\n",
    "        current = start\n",
    "        # inc + current + n is a closure\n",
    "        def inc():\n",
    "            nonlocal current\n",
    "            current += n\n",
    "            return current\n",
    "        return inc\n",
    "    return inner\n",
    "\n",
    "fn = increment(2)\n",
    "print(fn.__code__.co_freevars)\n",
    "\n",
    "inc_2 = fn(100)\n",
    "print(inc_2.__code__.co_freevars)\n",
    "\n",
    "print(inc_2())\n",
    "print(inc_2())"
   ]
  },
  {
   "attachments": {},
   "cell_type": "markdown",
   "metadata": {},
   "source": [
    "# Closures Application"
   ]
  },
  {
   "cell_type": "code",
   "execution_count": 17,
   "metadata": {},
   "outputs": [
    {
     "data": {
      "text/plain": [
       "20.0"
      ]
     },
     "execution_count": 17,
     "metadata": {},
     "output_type": "execute_result"
    }
   ],
   "source": [
    "class Averager:\n",
    "    def __init__(self):\n",
    "        self.numbers = []\n",
    "\n",
    "    def add(self, number):\n",
    "        self.numbers.append(number)\n",
    "        total = sum(self.numbers)\n",
    "        count = len(self.numbers)\n",
    "        return total / count\n",
    "\n",
    "a = Averager()\n",
    "a.add(10)\n",
    "a.add(20)\n",
    "a.add(30)"
   ]
  },
  {
   "cell_type": "code",
   "execution_count": 18,
   "metadata": {},
   "outputs": [
    {
     "data": {
      "text/plain": [
       "10.0"
      ]
     },
     "execution_count": 18,
     "metadata": {},
     "output_type": "execute_result"
    }
   ],
   "source": [
    "# Closure\n",
    "\n",
    "def averager():\n",
    "    numbers = []\n",
    "    def add(number):\n",
    "        numbers.append(number)\n",
    "        total = sum(numbers)\n",
    "        count = len(numbers)\n",
    "        return total / count\n",
    "    return add\n",
    "\n",
    "a = averager()\n",
    "a(10)\n"
   ]
  },
  {
   "cell_type": "code",
   "execution_count": 19,
   "metadata": {},
   "outputs": [
    {
     "data": {
      "text/plain": [
       "15.0"
      ]
     },
     "execution_count": 19,
     "metadata": {},
     "output_type": "execute_result"
    }
   ],
   "source": [
    "a(20)"
   ]
  },
  {
   "cell_type": "code",
   "execution_count": 20,
   "metadata": {},
   "outputs": [
    {
     "data": {
      "text/plain": [
       "20.0"
      ]
     },
     "execution_count": 20,
     "metadata": {},
     "output_type": "execute_result"
    }
   ],
   "source": [
    "a(30)"
   ]
  },
  {
   "cell_type": "code",
   "execution_count": 21,
   "metadata": {},
   "outputs": [
    {
     "name": "stdout",
     "output_type": "stream",
     "text": [
      "(<cell at 0x000001AE5596D700: int object at 0x000001AE509F6910>, <cell at 0x000001AE5596D6D0: int object at 0x000001AE509F6910>)\n",
      "('count', 'total')\n"
     ]
    }
   ],
   "source": [
    "def averager1():\n",
    "    total = count = 0\n",
    "    def add(number):\n",
    "        nonlocal total\n",
    "        nonlocal count\n",
    "        total += number\n",
    "        count += 1\n",
    "        return total / count\n",
    "    return add\n",
    "\n",
    "a = averager1()\n",
    "print(a.__closure__)\n",
    "print(a.__code__.co_freevars)"
   ]
  },
  {
   "cell_type": "code",
   "execution_count": 22,
   "metadata": {},
   "outputs": [
    {
     "data": {
      "text/plain": [
       "10.0"
      ]
     },
     "execution_count": 22,
     "metadata": {},
     "output_type": "execute_result"
    }
   ],
   "source": [
    "a(10)"
   ]
  },
  {
   "cell_type": "code",
   "execution_count": 23,
   "metadata": {},
   "outputs": [
    {
     "data": {
      "text/plain": [
       "15.0"
      ]
     },
     "execution_count": 23,
     "metadata": {},
     "output_type": "execute_result"
    }
   ],
   "source": [
    "a(20)"
   ]
  },
  {
   "cell_type": "code",
   "execution_count": null,
   "metadata": {},
   "outputs": [],
   "source": [
    "# class version\n",
    "class Averager:\n",
    "    def __init__(self):\n",
    "        self.total = 0\n",
    "        self.count = 0\n",
    "\n",
    "    def add(self, number):\n",
    "        total += number\n",
    "        count += 1\n",
    "        return total / count"
   ]
  },
  {
   "cell_type": "code",
   "execution_count": 27,
   "metadata": {},
   "outputs": [],
   "source": [
    "from time import perf_counter\n",
    "\n",
    "class Timer:\n",
    "    def __init__(self) -> None:\n",
    "        self.start = perf_counter()\n",
    "\n",
    "    def __call__(self):\n",
    "        return perf_counter() - self.start\n",
    "\n",
    "t1 = Timer()"
   ]
  },
  {
   "cell_type": "code",
   "execution_count": 28,
   "metadata": {},
   "outputs": [
    {
     "data": {
      "text/plain": [
       "9.121120900003007"
      ]
     },
     "execution_count": 28,
     "metadata": {},
     "output_type": "execute_result"
    }
   ],
   "source": [
    "t1()"
   ]
  },
  {
   "cell_type": "code",
   "execution_count": 29,
   "metadata": {},
   "outputs": [
    {
     "data": {
      "text/plain": [
       "12.867424500000197"
      ]
     },
     "execution_count": 29,
     "metadata": {},
     "output_type": "execute_result"
    }
   ],
   "source": [
    "t1()"
   ]
  },
  {
   "cell_type": "code",
   "execution_count": 30,
   "metadata": {},
   "outputs": [],
   "source": [
    "def timer():\n",
    "    start = perf_counter()\n",
    "\n",
    "    def poll():\n",
    "        return perf_counter() - start\n",
    "\n",
    "    return poll\n",
    "\n",
    "t2 = timer()"
   ]
  },
  {
   "cell_type": "code",
   "execution_count": 31,
   "metadata": {},
   "outputs": [
    {
     "data": {
      "text/plain": [
       "5.741308299999218"
      ]
     },
     "execution_count": 31,
     "metadata": {},
     "output_type": "execute_result"
    }
   ],
   "source": [
    "t2()"
   ]
  },
  {
   "cell_type": "code",
   "execution_count": 33,
   "metadata": {},
   "outputs": [
    {
     "data": {
      "text/plain": [
       "14.400963699998101"
      ]
     },
     "execution_count": 33,
     "metadata": {},
     "output_type": "execute_result"
    }
   ],
   "source": [
    "t2()"
   ]
  },
  {
   "cell_type": "code",
   "execution_count": 37,
   "metadata": {},
   "outputs": [],
   "source": [
    "def counter(initial_value=0):\n",
    "    def inc(increment=1):\n",
    "        nonlocal initial_value\n",
    "        initial_value += increment\n",
    "        return initial_value\n",
    "    return inc\n",
    "\n",
    "c_1 = counter()"
   ]
  },
  {
   "cell_type": "code",
   "execution_count": 38,
   "metadata": {},
   "outputs": [
    {
     "data": {
      "text/plain": [
       "1"
      ]
     },
     "execution_count": 38,
     "metadata": {},
     "output_type": "execute_result"
    }
   ],
   "source": [
    "c_1()"
   ]
  },
  {
   "cell_type": "code",
   "execution_count": 39,
   "metadata": {},
   "outputs": [
    {
     "data": {
      "text/plain": [
       "2"
      ]
     },
     "execution_count": 39,
     "metadata": {},
     "output_type": "execute_result"
    }
   ],
   "source": [
    "c_1()"
   ]
  },
  {
   "cell_type": "code",
   "execution_count": 40,
   "metadata": {},
   "outputs": [],
   "source": [
    "def counter(fn):\n",
    "    cnt = 0\n",
    "    def inner(*args, **kwargs):\n",
    "        nonlocal cnt\n",
    "        cnt += 1\n",
    "        print(f\"{fn.__name__} has been called {cnt} times\")\n",
    "        return fn(*args, **kwargs)\n",
    "    return inner"
   ]
  },
  {
   "cell_type": "code",
   "execution_count": 41,
   "metadata": {},
   "outputs": [],
   "source": [
    "def add(a, b):\n",
    "    return a + b\n",
    "\n",
    "def mul(a, b):\n",
    "    return a * b"
   ]
  },
  {
   "cell_type": "code",
   "execution_count": 42,
   "metadata": {},
   "outputs": [
    {
     "data": {
      "text/plain": [
       "(<cell at 0x000001AE55AF00D0: int object at 0x000001AE509F6910>,\n",
       " <cell at 0x000001AE55AF04F0: function object at 0x000001AE56D8DCA0>)"
      ]
     },
     "execution_count": 42,
     "metadata": {},
     "output_type": "execute_result"
    }
   ],
   "source": [
    "counter_add = counter(add)\n",
    "\n",
    "counter_add.__closure__"
   ]
  },
  {
   "cell_type": "code",
   "execution_count": 43,
   "metadata": {},
   "outputs": [
    {
     "data": {
      "text/plain": [
       "('cnt', 'fn')"
      ]
     },
     "execution_count": 43,
     "metadata": {},
     "output_type": "execute_result"
    }
   ],
   "source": [
    "counter_add.__code__.co_freevars"
   ]
  },
  {
   "cell_type": "code",
   "execution_count": 46,
   "metadata": {},
   "outputs": [
    {
     "data": {
      "text/plain": [
       "'0x1ae56d8dca0'"
      ]
     },
     "execution_count": 46,
     "metadata": {},
     "output_type": "execute_result"
    }
   ],
   "source": [
    "hex(id(add))"
   ]
  },
  {
   "cell_type": "code",
   "execution_count": 47,
   "metadata": {},
   "outputs": [
    {
     "name": "stdout",
     "output_type": "stream",
     "text": [
      "add has been called 1 times\n"
     ]
    }
   ],
   "source": [
    "result = counter_add(10, 20)"
   ]
  },
  {
   "cell_type": "code",
   "execution_count": 48,
   "metadata": {},
   "outputs": [
    {
     "name": "stdout",
     "output_type": "stream",
     "text": [
      "add has been called 2 times\n"
     ]
    },
    {
     "data": {
      "text/plain": [
       "31"
      ]
     },
     "execution_count": 48,
     "metadata": {},
     "output_type": "execute_result"
    }
   ],
   "source": [
    "counter_add(11, 20)"
   ]
  },
  {
   "cell_type": "code",
   "execution_count": 49,
   "metadata": {},
   "outputs": [],
   "source": [
    "def counter_dict(fn, counters):\n",
    "    cnt = 0\n",
    "    def inner(*args, **kwargs):\n",
    "        nonlocal cnt\n",
    "        cnt += 1\n",
    "        counters[fn.__name__] = cnt\n",
    "        return fn(*args, **kwargs)\n",
    "    return inner\n",
    "\n",
    "c = dict()\n",
    "counted_add = counter_dict(add, c)\n",
    "counted_mul = counter_dict(mul, c)"
   ]
  },
  {
   "cell_type": "code",
   "execution_count": 50,
   "metadata": {},
   "outputs": [
    {
     "data": {
      "text/plain": [
       "{'add': 3, 'mul': 1}"
      ]
     },
     "execution_count": 50,
     "metadata": {},
     "output_type": "execute_result"
    }
   ],
   "source": [
    "counted_add(1, 2)\n",
    "counted_add(23, 30)\n",
    "counted_add(28, 30)\n",
    "counted_mul(4,5)\n",
    "c"
   ]
  }
 ],
 "metadata": {
  "kernelspec": {
   "display_name": "venv",
   "language": "python",
   "name": "python3"
  },
  "language_info": {
   "codemirror_mode": {
    "name": "ipython",
    "version": 3
   },
   "file_extension": ".py",
   "mimetype": "text/x-python",
   "name": "python",
   "nbconvert_exporter": "python",
   "pygments_lexer": "ipython3",
   "version": "3.9.0"
  },
  "orig_nbformat": 4,
  "vscode": {
   "interpreter": {
    "hash": "a36e7f22a2ea414ee240053800448b5e53393948aff6a501bd899d95dad39503"
   }
  }
 },
 "nbformat": 4,
 "nbformat_minor": 2
}

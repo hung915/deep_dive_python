{
 "cells": [
  {
   "attachments": {},
   "cell_type": "markdown",
   "metadata": {},
   "source": [
    "# Literal (type must in list literal defined)"
   ]
  },
  {
   "cell_type": "code",
   "execution_count": null,
   "metadata": {},
   "outputs": [],
   "source": [
    "from typing import Literal\n",
    "from dataclasses import dataclass\n",
    "\n",
    "@dataclass\n",
    "class Error:\n",
    "    error_code: Literal[1,2,3,4,5]\n",
    "    disposed_of: bool\n",
    "\n",
    "Error(0, False)"
   ]
  },
  {
   "attachments": {},
   "cell_type": "markdown",
   "metadata": {},
   "source": [
    "# NewType (create new type from existing type)"
   ]
  },
  {
   "cell_type": "code",
   "execution_count": null,
   "metadata": {},
   "outputs": [],
   "source": [
    "from typing import NewType\n",
    "class HotDog: ...\n",
    "ReadyToServeHotDog = NewType(\"ReadyToServeHotDog\", HotDog)\n",
    "def dispense_to_customer(hot_dog: ReadyToServeHotDog): ...\n",
    "\n",
    "def prepare_for_serving(hot_dog: HotDog) -> ReadyToServeHotDog:\n",
    "    assert not hot_dog.is_plated(), \"Hot dog should not already be plated\"\n",
    "    hot_dog.put_on_plate()\n",
    "    hot_dog.add_napkins()\n",
    "    return ReadyToServeHotDog(hot_dog)"
   ]
  },
  {
   "attachments": {},
   "cell_type": "markdown",
   "metadata": {},
   "source": [
    "# TypedDict (create type to store heterogeneous type)"
   ]
  },
  {
   "cell_type": "code",
   "execution_count": null,
   "metadata": {},
   "outputs": [],
   "source": [
    "from typing import TypedDict\n",
    "class Range(TypedDict):\n",
    "    min: float\n",
    "    max: float\n",
    "class NutritionInformation(TypedDict):\n",
    "    value: int\n",
    "    unit: str\n",
    "    confidenceRange95Percent: Range\n",
    "    standardDeviation: float\n",
    "class RecipeNutritionInformation(TypedDict):\n",
    "    recipes_used: int\n",
    "    calories: NutritionInformation\n",
    "    fat: NutritionInformation\n",
    "    protein: NutritionInformation\n",
    "    carbs: NutritionInformation\n"
   ]
  },
  {
   "attachments": {},
   "cell_type": "markdown",
   "metadata": {},
   "source": [
    "# Generics ( a generic type indicates that you don’t care what type you are using. However, it helps restrict users from mixing types where inappropriate)"
   ]
  },
  {
   "cell_type": "code",
   "execution_count": null,
   "metadata": {},
   "outputs": [],
   "source": [
    "from typing import TypeVar\n",
    "T = TypeVar('T')\n",
    "def reverse(coll: list[T]) -> list[T]:\n",
    "    return coll[::-1]\n",
    "\n",
    "#This says that for a type T, reverse takes in a list of elements of type T and returns a list of elements of type T\n",
    "\n",
    "#can’t mix types: a list of integers will never be able to become a list of strings if those lists aren’t using the same TypeVar\n",
    "\n",
    "from collections import defaultdict\n",
    "from typing import Generic, TypeVar\n",
    "Node = TypeVar(\"Node\")\n",
    "Edge = TypeVar(\"Edge\")\n",
    "# directed graph\n",
    "class Graph(Generic[Node, Edge]):..."
   ]
  },
  {
   "attachments": {},
   "cell_type": "markdown",
   "metadata": {},
   "source": [
    "# TypeGuard\n",
    "\n",
    "New in 3.10\n",
    "\n",
    "TypeGuard only accepts a single type argument. At runtime, functions marked this way should return a boolean\n",
    "\n",
    "Using -> TypeGuard tells the static type checker that for a given function:\n",
    "- The return value is a boolean.\n",
    "- If the return value is True, the type of its argument is the type inside TypeGuard"
   ]
  },
  {
   "cell_type": "code",
   "execution_count": null,
   "metadata": {},
   "outputs": [],
   "source": [
    "from typing import TypeGuard\n",
    "\n",
    "def is_str_list(val: list[object]) -> TypeGuard[list[str]]:\n",
    "    '''Determines whether all objects in the list are strings'''\n",
    "    return all(isinstance(x, str) for x in val)\n",
    "\n",
    "def func1(val: list[object]):\n",
    "    if is_str_list(val):\n",
    "        # Type of ``val`` is narrowed to ``list[str]``.\n",
    "        print(\" \".join(val))\n",
    "    else:\n",
    "        # Type of ``val`` remains as ``list[object]``.\n",
    "        print(\"Not a list of strings!\")"
   ]
  }
 ],
 "metadata": {
  "language_info": {
   "name": "python"
  },
  "orig_nbformat": 4
 },
 "nbformat": 4,
 "nbformat_minor": 2
}
